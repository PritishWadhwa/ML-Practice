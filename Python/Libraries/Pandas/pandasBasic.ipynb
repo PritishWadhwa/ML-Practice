{
 "metadata": {
  "language_info": {
   "codemirror_mode": {
    "name": "ipython",
    "version": 3
   },
   "file_extension": ".py",
   "mimetype": "text/x-python",
   "name": "python",
   "nbconvert_exporter": "python",
   "pygments_lexer": "ipython3",
   "version": "3.9.1-final"
  },
  "orig_nbformat": 2,
  "kernelspec": {
   "name": "python3",
   "display_name": "Python 3",
   "language": "python"
  }
 },
 "nbformat": 4,
 "nbformat_minor": 2,
 "cells": [
  {
   "cell_type": "code",
   "execution_count": 1,
   "metadata": {},
   "outputs": [],
   "source": [
    "import pandas as pd\n",
    "import numpy as np"
   ]
  },
  {
   "cell_type": "code",
   "execution_count": 2,
   "metadata": {},
   "outputs": [],
   "source": [
    "#Try to create dataframe (Table)\n",
    "userData = {\n",
    "    \"MarksA\":np.random.randint(1, 100, 5),\n",
    "    \"MarksB\":np.random.randint(50, 100, 5),\n",
    "    \"MarksC\":np.random.randint(1, 100, 5)\n",
    "}"
   ]
  },
  {
   "cell_type": "code",
   "execution_count": 3,
   "metadata": {},
   "outputs": [
    {
     "output_type": "execute_result",
     "data": {
      "text/plain": [
       "{'MarksA': array([35, 55, 28, 87,  3]),\n",
       " 'MarksB': array([59, 75, 96, 89, 54]),\n",
       " 'MarksC': array([37, 77, 15, 98, 53])}"
      ]
     },
     "metadata": {},
     "execution_count": 3
    }
   ],
   "source": [
    "userData"
   ]
  },
  {
   "cell_type": "code",
   "execution_count": 4,
   "metadata": {},
   "outputs": [
    {
     "output_type": "stream",
     "name": "stdout",
     "text": [
      "   MarksA  MarksB  MarksC\n0      35      59      37\n1      55      75      77\n2      28      96      15\n3      87      89      98\n4       3      54      53\n"
     ]
    }
   ],
   "source": [
    "df = pd.DataFrame(userData)\n",
    "print(df)"
   ]
  },
  {
   "cell_type": "code",
   "execution_count": 5,
   "metadata": {},
   "outputs": [
    {
     "output_type": "execute_result",
     "data": {
      "text/plain": [
       "   MarksA  MarksB  MarksC\n",
       "0      35      59      37\n",
       "1      55      75      77\n",
       "2      28      96      15\n",
       "3      87      89      98\n",
       "4       3      54      53"
      ],
      "text/html": "<div>\n<style scoped>\n    .dataframe tbody tr th:only-of-type {\n        vertical-align: middle;\n    }\n\n    .dataframe tbody tr th {\n        vertical-align: top;\n    }\n\n    .dataframe thead th {\n        text-align: right;\n    }\n</style>\n<table border=\"1\" class=\"dataframe\">\n  <thead>\n    <tr style=\"text-align: right;\">\n      <th></th>\n      <th>MarksA</th>\n      <th>MarksB</th>\n      <th>MarksC</th>\n    </tr>\n  </thead>\n  <tbody>\n    <tr>\n      <th>0</th>\n      <td>35</td>\n      <td>59</td>\n      <td>37</td>\n    </tr>\n    <tr>\n      <th>1</th>\n      <td>55</td>\n      <td>75</td>\n      <td>77</td>\n    </tr>\n    <tr>\n      <th>2</th>\n      <td>28</td>\n      <td>96</td>\n      <td>15</td>\n    </tr>\n    <tr>\n      <th>3</th>\n      <td>87</td>\n      <td>89</td>\n      <td>98</td>\n    </tr>\n    <tr>\n      <th>4</th>\n      <td>3</td>\n      <td>54</td>\n      <td>53</td>\n    </tr>\n  </tbody>\n</table>\n</div>"
     },
     "metadata": {},
     "execution_count": 5
    }
   ],
   "source": [
    "df.head()"
   ]
  },
  {
   "cell_type": "code",
   "execution_count": 6,
   "metadata": {},
   "outputs": [
    {
     "output_type": "execute_result",
     "data": {
      "text/plain": [
       "   MarksA  MarksB  MarksC\n",
       "0      35      59      37\n",
       "1      55      75      77\n",
       "2      28      96      15"
      ],
      "text/html": "<div>\n<style scoped>\n    .dataframe tbody tr th:only-of-type {\n        vertical-align: middle;\n    }\n\n    .dataframe tbody tr th {\n        vertical-align: top;\n    }\n\n    .dataframe thead th {\n        text-align: right;\n    }\n</style>\n<table border=\"1\" class=\"dataframe\">\n  <thead>\n    <tr style=\"text-align: right;\">\n      <th></th>\n      <th>MarksA</th>\n      <th>MarksB</th>\n      <th>MarksC</th>\n    </tr>\n  </thead>\n  <tbody>\n    <tr>\n      <th>0</th>\n      <td>35</td>\n      <td>59</td>\n      <td>37</td>\n    </tr>\n    <tr>\n      <th>1</th>\n      <td>55</td>\n      <td>75</td>\n      <td>77</td>\n    </tr>\n    <tr>\n      <th>2</th>\n      <td>28</td>\n      <td>96</td>\n      <td>15</td>\n    </tr>\n  </tbody>\n</table>\n</div>"
     },
     "metadata": {},
     "execution_count": 6
    }
   ],
   "source": [
    "df.head(n = 3)"
   ]
  },
  {
   "cell_type": "code",
   "execution_count": 7,
   "metadata": {},
   "outputs": [
    {
     "output_type": "stream",
     "name": "stdout",
     "text": [
      "Index(['MarksA', 'MarksB', 'MarksC'], dtype='object')\n"
     ]
    }
   ],
   "source": [
    "print(df.columns)"
   ]
  },
  {
   "cell_type": "code",
   "execution_count": 8,
   "metadata": {},
   "outputs": [
    {
     "output_type": "stream",
     "name": "stdout",
     "text": [
      "   MarksA  MarksB  MarksC\n0    35.0    59.0    37.0\n1    55.0    75.0    77.0\n2    28.0    96.0    15.0\n3    87.0    89.0    98.0\n4     3.0    54.0    53.0\n"
     ]
    }
   ],
   "source": [
    "df1 = pd.DataFrame(userData, dtype='float32')\n",
    "print(df1)"
   ]
  },
  {
   "cell_type": "code",
   "execution_count": 9,
   "metadata": {},
   "outputs": [],
   "source": [
    "df.to_csv('marks.csv')"
   ]
  },
  {
   "cell_type": "code",
   "execution_count": 10,
   "metadata": {},
   "outputs": [
    {
     "output_type": "execute_result",
     "data": {
      "text/plain": [
       "   Unnamed: 0  MarksA  MarksB  MarksC\n",
       "0           0      35      59      37\n",
       "1           1      55      75      77\n",
       "2           2      28      96      15\n",
       "3           3      87      89      98\n",
       "4           4       3      54      53"
      ],
      "text/html": "<div>\n<style scoped>\n    .dataframe tbody tr th:only-of-type {\n        vertical-align: middle;\n    }\n\n    .dataframe tbody tr th {\n        vertical-align: top;\n    }\n\n    .dataframe thead th {\n        text-align: right;\n    }\n</style>\n<table border=\"1\" class=\"dataframe\">\n  <thead>\n    <tr style=\"text-align: right;\">\n      <th></th>\n      <th>Unnamed: 0</th>\n      <th>MarksA</th>\n      <th>MarksB</th>\n      <th>MarksC</th>\n    </tr>\n  </thead>\n  <tbody>\n    <tr>\n      <th>0</th>\n      <td>0</td>\n      <td>35</td>\n      <td>59</td>\n      <td>37</td>\n    </tr>\n    <tr>\n      <th>1</th>\n      <td>1</td>\n      <td>55</td>\n      <td>75</td>\n      <td>77</td>\n    </tr>\n    <tr>\n      <th>2</th>\n      <td>2</td>\n      <td>28</td>\n      <td>96</td>\n      <td>15</td>\n    </tr>\n    <tr>\n      <th>3</th>\n      <td>3</td>\n      <td>87</td>\n      <td>89</td>\n      <td>98</td>\n    </tr>\n    <tr>\n      <th>4</th>\n      <td>4</td>\n      <td>3</td>\n      <td>54</td>\n      <td>53</td>\n    </tr>\n  </tbody>\n</table>\n</div>"
     },
     "metadata": {},
     "execution_count": 10
    }
   ],
   "source": [
    "myData = pd.read_csv('marks.csv')\n",
    "myData"
   ]
  },
  {
   "cell_type": "code",
   "execution_count": 11,
   "metadata": {},
   "outputs": [
    {
     "output_type": "execute_result",
     "data": {
      "text/plain": [
       "   MarksA  MarksB  MarksC\n",
       "0      35      59      37\n",
       "1      55      75      77\n",
       "2      28      96      15\n",
       "3      87      89      98\n",
       "4       3      54      53"
      ],
      "text/html": "<div>\n<style scoped>\n    .dataframe tbody tr th:only-of-type {\n        vertical-align: middle;\n    }\n\n    .dataframe tbody tr th {\n        vertical-align: top;\n    }\n\n    .dataframe thead th {\n        text-align: right;\n    }\n</style>\n<table border=\"1\" class=\"dataframe\">\n  <thead>\n    <tr style=\"text-align: right;\">\n      <th></th>\n      <th>MarksA</th>\n      <th>MarksB</th>\n      <th>MarksC</th>\n    </tr>\n  </thead>\n  <tbody>\n    <tr>\n      <th>0</th>\n      <td>35</td>\n      <td>59</td>\n      <td>37</td>\n    </tr>\n    <tr>\n      <th>1</th>\n      <td>55</td>\n      <td>75</td>\n      <td>77</td>\n    </tr>\n    <tr>\n      <th>2</th>\n      <td>28</td>\n      <td>96</td>\n      <td>15</td>\n    </tr>\n    <tr>\n      <th>3</th>\n      <td>87</td>\n      <td>89</td>\n      <td>98</td>\n    </tr>\n    <tr>\n      <th>4</th>\n      <td>3</td>\n      <td>54</td>\n      <td>53</td>\n    </tr>\n  </tbody>\n</table>\n</div>"
     },
     "metadata": {},
     "execution_count": 11
    }
   ],
   "source": [
    "myData = pd.read_csv('marks.csv')\n",
    "myData = myData.drop(columns=['Unnamed: 0'])\n",
    "myData"
   ]
  },
  {
   "cell_type": "code",
   "execution_count": 12,
   "metadata": {},
   "outputs": [
    {
     "output_type": "execute_result",
     "data": {
      "text/plain": [
       "          MarksA     MarksB     MarksC\n",
       "count   5.000000   5.000000   5.000000\n",
       "mean   41.600000  74.600000  56.000000\n",
       "std    31.461087  18.256506  32.619013\n",
       "min     3.000000  54.000000  15.000000\n",
       "25%    28.000000  59.000000  37.000000\n",
       "50%    35.000000  75.000000  53.000000\n",
       "75%    55.000000  89.000000  77.000000\n",
       "max    87.000000  96.000000  98.000000"
      ],
      "text/html": "<div>\n<style scoped>\n    .dataframe tbody tr th:only-of-type {\n        vertical-align: middle;\n    }\n\n    .dataframe tbody tr th {\n        vertical-align: top;\n    }\n\n    .dataframe thead th {\n        text-align: right;\n    }\n</style>\n<table border=\"1\" class=\"dataframe\">\n  <thead>\n    <tr style=\"text-align: right;\">\n      <th></th>\n      <th>MarksA</th>\n      <th>MarksB</th>\n      <th>MarksC</th>\n    </tr>\n  </thead>\n  <tbody>\n    <tr>\n      <th>count</th>\n      <td>5.000000</td>\n      <td>5.000000</td>\n      <td>5.000000</td>\n    </tr>\n    <tr>\n      <th>mean</th>\n      <td>41.600000</td>\n      <td>74.600000</td>\n      <td>56.000000</td>\n    </tr>\n    <tr>\n      <th>std</th>\n      <td>31.461087</td>\n      <td>18.256506</td>\n      <td>32.619013</td>\n    </tr>\n    <tr>\n      <th>min</th>\n      <td>3.000000</td>\n      <td>54.000000</td>\n      <td>15.000000</td>\n    </tr>\n    <tr>\n      <th>25%</th>\n      <td>28.000000</td>\n      <td>59.000000</td>\n      <td>37.000000</td>\n    </tr>\n    <tr>\n      <th>50%</th>\n      <td>35.000000</td>\n      <td>75.000000</td>\n      <td>53.000000</td>\n    </tr>\n    <tr>\n      <th>75%</th>\n      <td>55.000000</td>\n      <td>89.000000</td>\n      <td>77.000000</td>\n    </tr>\n    <tr>\n      <th>max</th>\n      <td>87.000000</td>\n      <td>96.000000</td>\n      <td>98.000000</td>\n    </tr>\n  </tbody>\n</table>\n</div>"
     },
     "metadata": {},
     "execution_count": 12
    }
   ],
   "source": [
    "myData.describe()"
   ]
  },
  {
   "cell_type": "code",
   "execution_count": 13,
   "metadata": {},
   "outputs": [
    {
     "output_type": "execute_result",
     "data": {
      "text/plain": [
       "   MarksA  MarksB  MarksC\n",
       "2      28      96      15\n",
       "3      87      89      98\n",
       "4       3      54      53"
      ],
      "text/html": "<div>\n<style scoped>\n    .dataframe tbody tr th:only-of-type {\n        vertical-align: middle;\n    }\n\n    .dataframe tbody tr th {\n        vertical-align: top;\n    }\n\n    .dataframe thead th {\n        text-align: right;\n    }\n</style>\n<table border=\"1\" class=\"dataframe\">\n  <thead>\n    <tr style=\"text-align: right;\">\n      <th></th>\n      <th>MarksA</th>\n      <th>MarksB</th>\n      <th>MarksC</th>\n    </tr>\n  </thead>\n  <tbody>\n    <tr>\n      <th>2</th>\n      <td>28</td>\n      <td>96</td>\n      <td>15</td>\n    </tr>\n    <tr>\n      <th>3</th>\n      <td>87</td>\n      <td>89</td>\n      <td>98</td>\n    </tr>\n    <tr>\n      <th>4</th>\n      <td>3</td>\n      <td>54</td>\n      <td>53</td>\n    </tr>\n  </tbody>\n</table>\n</div>"
     },
     "metadata": {},
     "execution_count": 13
    }
   ],
   "source": [
    "myData.tail(n = 3)"
   ]
  },
  {
   "source": [
    "#accessing row\n",
    "df.iloc[3]"
   ],
   "cell_type": "code",
   "metadata": {},
   "execution_count": 14,
   "outputs": [
    {
     "output_type": "execute_result",
     "data": {
      "text/plain": [
       "MarksA    87\n",
       "MarksB    89\n",
       "MarksC    98\n",
       "Name: 3, dtype: int64"
      ]
     },
     "metadata": {},
     "execution_count": 14
    }
   ]
  },
  {
   "cell_type": "code",
   "execution_count": 15,
   "metadata": {},
   "outputs": [
    {
     "output_type": "execute_result",
     "data": {
      "text/plain": [
       "89"
      ]
     },
     "metadata": {},
     "execution_count": 15
    }
   ],
   "source": [
    "#accessing particular cell\n",
    "df.iloc[3,1]"
   ]
  },
  {
   "cell_type": "code",
   "execution_count": 16,
   "metadata": {},
   "outputs": [
    {
     "output_type": "execute_result",
     "data": {
      "text/plain": [
       "89"
      ]
     },
     "metadata": {},
     "execution_count": 16
    }
   ],
   "source": [
    "df.iloc[3][1]"
   ]
  },
  {
   "cell_type": "code",
   "execution_count": 17,
   "metadata": {},
   "outputs": [
    {
     "output_type": "execute_result",
     "data": {
      "text/plain": [
       "[1, 2]"
      ]
     },
     "metadata": {},
     "execution_count": 17
    }
   ],
   "source": [
    "idx = [df.columns.get_loc('MarksB'), df.columns.get_loc('MarksC')]\n",
    "idx"
   ]
  },
  {
   "cell_type": "code",
   "execution_count": 18,
   "metadata": {},
   "outputs": [
    {
     "output_type": "execute_result",
     "data": {
      "text/plain": [
       "MarksB    89\n",
       "MarksC    98\n",
       "Name: 3, dtype: int64"
      ]
     },
     "metadata": {},
     "execution_count": 18
    }
   ],
   "source": [
    "df.iloc[3, idx]"
   ]
  },
  {
   "cell_type": "code",
   "execution_count": 19,
   "metadata": {},
   "outputs": [
    {
     "output_type": "execute_result",
     "data": {
      "text/plain": [
       "   MarksB  MarksC\n",
       "0      59      37\n",
       "1      75      77\n",
       "2      96      15"
      ],
      "text/html": "<div>\n<style scoped>\n    .dataframe tbody tr th:only-of-type {\n        vertical-align: middle;\n    }\n\n    .dataframe tbody tr th {\n        vertical-align: top;\n    }\n\n    .dataframe thead th {\n        text-align: right;\n    }\n</style>\n<table border=\"1\" class=\"dataframe\">\n  <thead>\n    <tr style=\"text-align: right;\">\n      <th></th>\n      <th>MarksB</th>\n      <th>MarksC</th>\n    </tr>\n  </thead>\n  <tbody>\n    <tr>\n      <th>0</th>\n      <td>59</td>\n      <td>37</td>\n    </tr>\n    <tr>\n      <th>1</th>\n      <td>75</td>\n      <td>77</td>\n    </tr>\n    <tr>\n      <th>2</th>\n      <td>96</td>\n      <td>15</td>\n    </tr>\n  </tbody>\n</table>\n</div>"
     },
     "metadata": {},
     "execution_count": 19
    }
   ],
   "source": [
    "df.iloc[:3, idx]"
   ]
  },
  {
   "cell_type": "code",
   "execution_count": 20,
   "metadata": {},
   "outputs": [
    {
     "output_type": "execute_result",
     "data": {
      "text/plain": [
       "   MarksB  MarksC\n",
       "0      59      37\n",
       "1      75      77\n",
       "2      96      15"
      ],
      "text/html": "<div>\n<style scoped>\n    .dataframe tbody tr th:only-of-type {\n        vertical-align: middle;\n    }\n\n    .dataframe tbody tr th {\n        vertical-align: top;\n    }\n\n    .dataframe thead th {\n        text-align: right;\n    }\n</style>\n<table border=\"1\" class=\"dataframe\">\n  <thead>\n    <tr style=\"text-align: right;\">\n      <th></th>\n      <th>MarksB</th>\n      <th>MarksC</th>\n    </tr>\n  </thead>\n  <tbody>\n    <tr>\n      <th>0</th>\n      <td>59</td>\n      <td>37</td>\n    </tr>\n    <tr>\n      <th>1</th>\n      <td>75</td>\n      <td>77</td>\n    </tr>\n    <tr>\n      <th>2</th>\n      <td>96</td>\n      <td>15</td>\n    </tr>\n  </tbody>\n</table>\n</div>"
     },
     "metadata": {},
     "execution_count": 20
    }
   ],
   "source": [
    "df.iloc[:3, 1:3]"
   ]
  },
  {
   "cell_type": "code",
   "execution_count": 21,
   "metadata": {},
   "outputs": [
    {
     "output_type": "execute_result",
     "data": {
      "text/plain": [
       "   MarksB  MarksC\n",
       "0      59      37\n",
       "1      75      77\n",
       "2      96      15"
      ],
      "text/html": "<div>\n<style scoped>\n    .dataframe tbody tr th:only-of-type {\n        vertical-align: middle;\n    }\n\n    .dataframe tbody tr th {\n        vertical-align: top;\n    }\n\n    .dataframe thead th {\n        text-align: right;\n    }\n</style>\n<table border=\"1\" class=\"dataframe\">\n  <thead>\n    <tr style=\"text-align: right;\">\n      <th></th>\n      <th>MarksB</th>\n      <th>MarksC</th>\n    </tr>\n  </thead>\n  <tbody>\n    <tr>\n      <th>0</th>\n      <td>59</td>\n      <td>37</td>\n    </tr>\n    <tr>\n      <th>1</th>\n      <td>75</td>\n      <td>77</td>\n    </tr>\n    <tr>\n      <th>2</th>\n      <td>96</td>\n      <td>15</td>\n    </tr>\n  </tbody>\n</table>\n</div>"
     },
     "metadata": {},
     "execution_count": 21
    }
   ],
   "source": [
    "df.iloc[:3, [1,2]]"
   ]
  },
  {
   "cell_type": "code",
   "execution_count": 22,
   "metadata": {},
   "outputs": [
    {
     "output_type": "execute_result",
     "data": {
      "text/plain": [
       "   MarksA  MarksB  MarksC\n",
       "0      35      59      37\n",
       "1      55      75      77\n",
       "2      28      96      15\n",
       "3      87      89      98\n",
       "4       3      54      53"
      ],
      "text/html": "<div>\n<style scoped>\n    .dataframe tbody tr th:only-of-type {\n        vertical-align: middle;\n    }\n\n    .dataframe tbody tr th {\n        vertical-align: top;\n    }\n\n    .dataframe thead th {\n        text-align: right;\n    }\n</style>\n<table border=\"1\" class=\"dataframe\">\n  <thead>\n    <tr style=\"text-align: right;\">\n      <th></th>\n      <th>MarksA</th>\n      <th>MarksB</th>\n      <th>MarksC</th>\n    </tr>\n  </thead>\n  <tbody>\n    <tr>\n      <th>0</th>\n      <td>35</td>\n      <td>59</td>\n      <td>37</td>\n    </tr>\n    <tr>\n      <th>1</th>\n      <td>55</td>\n      <td>75</td>\n      <td>77</td>\n    </tr>\n    <tr>\n      <th>2</th>\n      <td>28</td>\n      <td>96</td>\n      <td>15</td>\n    </tr>\n    <tr>\n      <th>3</th>\n      <td>87</td>\n      <td>89</td>\n      <td>98</td>\n    </tr>\n    <tr>\n      <th>4</th>\n      <td>3</td>\n      <td>54</td>\n      <td>53</td>\n    </tr>\n  </tbody>\n</table>\n</div>"
     },
     "metadata": {},
     "execution_count": 22
    }
   ],
   "source": [
    "#sort the dataframe\n",
    "myData"
   ]
  },
  {
   "source": [
    "myData.sort_values(by=['MarksA'], ascending=True)"
   ],
   "cell_type": "code",
   "metadata": {},
   "execution_count": 23,
   "outputs": [
    {
     "output_type": "execute_result",
     "data": {
      "text/plain": [
       "   MarksA  MarksB  MarksC\n",
       "4       3      54      53\n",
       "2      28      96      15\n",
       "0      35      59      37\n",
       "1      55      75      77\n",
       "3      87      89      98"
      ],
      "text/html": "<div>\n<style scoped>\n    .dataframe tbody tr th:only-of-type {\n        vertical-align: middle;\n    }\n\n    .dataframe tbody tr th {\n        vertical-align: top;\n    }\n\n    .dataframe thead th {\n        text-align: right;\n    }\n</style>\n<table border=\"1\" class=\"dataframe\">\n  <thead>\n    <tr style=\"text-align: right;\">\n      <th></th>\n      <th>MarksA</th>\n      <th>MarksB</th>\n      <th>MarksC</th>\n    </tr>\n  </thead>\n  <tbody>\n    <tr>\n      <th>4</th>\n      <td>3</td>\n      <td>54</td>\n      <td>53</td>\n    </tr>\n    <tr>\n      <th>2</th>\n      <td>28</td>\n      <td>96</td>\n      <td>15</td>\n    </tr>\n    <tr>\n      <th>0</th>\n      <td>35</td>\n      <td>59</td>\n      <td>37</td>\n    </tr>\n    <tr>\n      <th>1</th>\n      <td>55</td>\n      <td>75</td>\n      <td>77</td>\n    </tr>\n    <tr>\n      <th>3</th>\n      <td>87</td>\n      <td>89</td>\n      <td>98</td>\n    </tr>\n  </tbody>\n</table>\n</div>"
     },
     "metadata": {},
     "execution_count": 23
    }
   ]
  },
  {
   "cell_type": "code",
   "execution_count": 24,
   "metadata": {},
   "outputs": [
    {
     "output_type": "execute_result",
     "data": {
      "text/plain": [
       "   MarksA  MarksB  MarksC\n",
       "3      87      89      98\n",
       "1      55      75      77\n",
       "0      35      59      37\n",
       "2      28      96      15\n",
       "4       3      54      53"
      ],
      "text/html": "<div>\n<style scoped>\n    .dataframe tbody tr th:only-of-type {\n        vertical-align: middle;\n    }\n\n    .dataframe tbody tr th {\n        vertical-align: top;\n    }\n\n    .dataframe thead th {\n        text-align: right;\n    }\n</style>\n<table border=\"1\" class=\"dataframe\">\n  <thead>\n    <tr style=\"text-align: right;\">\n      <th></th>\n      <th>MarksA</th>\n      <th>MarksB</th>\n      <th>MarksC</th>\n    </tr>\n  </thead>\n  <tbody>\n    <tr>\n      <th>3</th>\n      <td>87</td>\n      <td>89</td>\n      <td>98</td>\n    </tr>\n    <tr>\n      <th>1</th>\n      <td>55</td>\n      <td>75</td>\n      <td>77</td>\n    </tr>\n    <tr>\n      <th>0</th>\n      <td>35</td>\n      <td>59</td>\n      <td>37</td>\n    </tr>\n    <tr>\n      <th>2</th>\n      <td>28</td>\n      <td>96</td>\n      <td>15</td>\n    </tr>\n    <tr>\n      <th>4</th>\n      <td>3</td>\n      <td>54</td>\n      <td>53</td>\n    </tr>\n  </tbody>\n</table>\n</div>"
     },
     "metadata": {},
     "execution_count": 24
    }
   ],
   "source": [
    "myData.sort_values(by=['MarksA'], ascending=False)"
   ]
  },
  {
   "cell_type": "code",
   "execution_count": 25,
   "metadata": {},
   "outputs": [
    {
     "output_type": "execute_result",
     "data": {
      "text/plain": [
       "   MarksA  MarksB  MarksC\n",
       "2      28      96      15\n",
       "0      35      59      37\n",
       "4       3      54      53\n",
       "1      55      75      77\n",
       "3      87      89      98"
      ],
      "text/html": "<div>\n<style scoped>\n    .dataframe tbody tr th:only-of-type {\n        vertical-align: middle;\n    }\n\n    .dataframe tbody tr th {\n        vertical-align: top;\n    }\n\n    .dataframe thead th {\n        text-align: right;\n    }\n</style>\n<table border=\"1\" class=\"dataframe\">\n  <thead>\n    <tr style=\"text-align: right;\">\n      <th></th>\n      <th>MarksA</th>\n      <th>MarksB</th>\n      <th>MarksC</th>\n    </tr>\n  </thead>\n  <tbody>\n    <tr>\n      <th>2</th>\n      <td>28</td>\n      <td>96</td>\n      <td>15</td>\n    </tr>\n    <tr>\n      <th>0</th>\n      <td>35</td>\n      <td>59</td>\n      <td>37</td>\n    </tr>\n    <tr>\n      <th>4</th>\n      <td>3</td>\n      <td>54</td>\n      <td>53</td>\n    </tr>\n    <tr>\n      <th>1</th>\n      <td>55</td>\n      <td>75</td>\n      <td>77</td>\n    </tr>\n    <tr>\n      <th>3</th>\n      <td>87</td>\n      <td>89</td>\n      <td>98</td>\n    </tr>\n  </tbody>\n</table>\n</div>"
     },
     "metadata": {},
     "execution_count": 25
    }
   ],
   "source": [
    "myData.sort_values(by=['MarksC', 'MarksA'], ascending=True) #priority to C then in case of tie, A is considered"
   ]
  },
  {
   "cell_type": "code",
   "execution_count": 26,
   "metadata": {},
   "outputs": [],
   "source": [
    "#get a numpy array\n",
    "dataArray = myData.values"
   ]
  },
  {
   "cell_type": "code",
   "execution_count": 27,
   "metadata": {},
   "outputs": [
    {
     "output_type": "stream",
     "name": "stdout",
     "text": [
      "   MarksA  MarksB  MarksC\n0      35      59      37\n1      55      75      77\n2      28      96      15\n3      87      89      98\n4       3      54      53\n<class 'pandas.core.frame.DataFrame'>\n(5, 3)\n"
     ]
    }
   ],
   "source": [
    "print(myData)\n",
    "print(type(myData))\n",
    "print(myData.shape)"
   ]
  },
  {
   "cell_type": "code",
   "execution_count": 28,
   "metadata": {},
   "outputs": [
    {
     "output_type": "stream",
     "name": "stdout",
     "text": [
      "[[35 59 37]\n [55 75 77]\n [28 96 15]\n [87 89 98]\n [ 3 54 53]]\n<class 'numpy.ndarray'>\n(5, 3)\n"
     ]
    }
   ],
   "source": [
    "print(dataArray)\n",
    "print(type(dataArray))\n",
    "print(dataArray.shape)"
   ]
  },
  {
   "cell_type": "code",
   "execution_count": 29,
   "metadata": {},
   "outputs": [
    {
     "output_type": "execute_result",
     "data": {
      "text/plain": [
       "15"
      ]
     },
     "metadata": {},
     "execution_count": 29
    }
   ],
   "source": [
    "dataArray[2][2]"
   ]
  },
  {
   "cell_type": "code",
   "execution_count": 30,
   "metadata": {},
   "outputs": [
    {
     "output_type": "execute_result",
     "data": {
      "text/plain": [
       "   Phy  Chem  Math\n",
       "0   35    59    37\n",
       "1   55    75    77\n",
       "2   28    96    15\n",
       "3   87    89    98\n",
       "4    3    54    53"
      ],
      "text/html": "<div>\n<style scoped>\n    .dataframe tbody tr th:only-of-type {\n        vertical-align: middle;\n    }\n\n    .dataframe tbody tr th {\n        vertical-align: top;\n    }\n\n    .dataframe thead th {\n        text-align: right;\n    }\n</style>\n<table border=\"1\" class=\"dataframe\">\n  <thead>\n    <tr style=\"text-align: right;\">\n      <th></th>\n      <th>Phy</th>\n      <th>Chem</th>\n      <th>Math</th>\n    </tr>\n  </thead>\n  <tbody>\n    <tr>\n      <th>0</th>\n      <td>35</td>\n      <td>59</td>\n      <td>37</td>\n    </tr>\n    <tr>\n      <th>1</th>\n      <td>55</td>\n      <td>75</td>\n      <td>77</td>\n    </tr>\n    <tr>\n      <th>2</th>\n      <td>28</td>\n      <td>96</td>\n      <td>15</td>\n    </tr>\n    <tr>\n      <th>3</th>\n      <td>87</td>\n      <td>89</td>\n      <td>98</td>\n    </tr>\n    <tr>\n      <th>4</th>\n      <td>3</td>\n      <td>54</td>\n      <td>53</td>\n    </tr>\n  </tbody>\n</table>\n</div>"
     },
     "metadata": {},
     "execution_count": 30
    }
   ],
   "source": [
    "#numpy array to dataframe\n",
    "newDf = pd.DataFrame(dataArray, dtype='int8', columns=['Phy', 'Chem', 'Math'])\n",
    "newDf"
   ]
  },
  {
   "cell_type": "code",
   "execution_count": 31,
   "metadata": {},
   "outputs": [],
   "source": [
    "newDf.to_csv('PCM.csv', index=False)"
   ]
  },
  {
   "source": [
    "pcm = pd.read_csv('PCM.csv')"
   ],
   "cell_type": "code",
   "metadata": {},
   "execution_count": 32,
   "outputs": []
  },
  {
   "cell_type": "code",
   "execution_count": 33,
   "metadata": {},
   "outputs": [
    {
     "output_type": "execute_result",
     "data": {
      "text/plain": [
       "   Phy  Chem  Math\n",
       "0   35    59    37\n",
       "1   55    75    77\n",
       "2   28    96    15\n",
       "3   87    89    98\n",
       "4    3    54    53"
      ],
      "text/html": "<div>\n<style scoped>\n    .dataframe tbody tr th:only-of-type {\n        vertical-align: middle;\n    }\n\n    .dataframe tbody tr th {\n        vertical-align: top;\n    }\n\n    .dataframe thead th {\n        text-align: right;\n    }\n</style>\n<table border=\"1\" class=\"dataframe\">\n  <thead>\n    <tr style=\"text-align: right;\">\n      <th></th>\n      <th>Phy</th>\n      <th>Chem</th>\n      <th>Math</th>\n    </tr>\n  </thead>\n  <tbody>\n    <tr>\n      <th>0</th>\n      <td>35</td>\n      <td>59</td>\n      <td>37</td>\n    </tr>\n    <tr>\n      <th>1</th>\n      <td>55</td>\n      <td>75</td>\n      <td>77</td>\n    </tr>\n    <tr>\n      <th>2</th>\n      <td>28</td>\n      <td>96</td>\n      <td>15</td>\n    </tr>\n    <tr>\n      <th>3</th>\n      <td>87</td>\n      <td>89</td>\n      <td>98</td>\n    </tr>\n    <tr>\n      <th>4</th>\n      <td>3</td>\n      <td>54</td>\n      <td>53</td>\n    </tr>\n  </tbody>\n</table>\n</div>"
     },
     "metadata": {},
     "execution_count": 33
    }
   ],
   "source": [
    "pcm"
   ]
  },
  {
   "cell_type": "code",
   "execution_count": 34,
   "metadata": {},
   "outputs": [
    {
     "output_type": "stream",
     "name": "stdout",
     "text": [
      "   35  59  37\n0  55  75  77\n1  28  96  15\n2  87  89  98\n3   3  54  53\n"
     ]
    }
   ],
   "source": [
    "newDf.to_csv('PCM.csv', index=False, header=False)\n",
    "pcm = pd.read_csv('PCM.csv')\n",
    "print(pcm)"
   ]
  },
  {
   "cell_type": "code",
   "execution_count": null,
   "metadata": {},
   "outputs": [],
   "source": []
  }
 ]
}