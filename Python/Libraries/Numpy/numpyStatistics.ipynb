{
 "metadata": {
  "language_info": {
   "codemirror_mode": {
    "name": "ipython",
    "version": 3
   },
   "file_extension": ".py",
   "mimetype": "text/x-python",
   "name": "python",
   "nbconvert_exporter": "python",
   "pygments_lexer": "ipython3",
   "version": "3.9.1-final"
  },
  "orig_nbformat": 2,
  "kernelspec": {
   "name": "python3",
   "display_name": "Python 3",
   "language": "python"
  }
 },
 "nbformat": 4,
 "nbformat_minor": 2,
 "cells": [
  {
   "cell_type": "code",
   "execution_count": 1,
   "metadata": {},
   "outputs": [],
   "source": [
    "import numpy as np"
   ]
  },
  {
   "cell_type": "code",
   "execution_count": 2,
   "metadata": {},
   "outputs": [
    {
     "output_type": "stream",
     "name": "stdout",
     "text": [
      "[[1 2 3 4]\n [4 3 2 1]]\n"
     ]
    }
   ],
   "source": [
    "a = np.array([[1, 2, 3, 4] ,[4, 3, 2, 1]])\n",
    "print(a)"
   ]
  },
  {
   "cell_type": "code",
   "execution_count": 3,
   "metadata": {},
   "outputs": [
    {
     "output_type": "stream",
     "name": "stdout",
     "text": [
      "1\n4\n"
     ]
    }
   ],
   "source": [
    "print(np.min(a))\n",
    "print(np.max(a))"
   ]
  },
  {
   "cell_type": "code",
   "execution_count": 4,
   "metadata": {},
   "outputs": [
    {
     "output_type": "stream",
     "name": "stdout",
     "text": [
      "[1 2 2 1]\n[1 1]\n"
     ]
    }
   ],
   "source": [
    "print(np.min(a, axis = 0))\n",
    "print(np.min(a, axis = 1))"
   ]
  },
  {
   "cell_type": "code",
   "execution_count": 5,
   "metadata": {},
   "outputs": [
    {
     "output_type": "stream",
     "name": "stdout",
     "text": [
      "[4 3 3 4]\n[4 4]\n"
     ]
    }
   ],
   "source": [
    "print(np.max(a, axis = 0))\n",
    "print(np.max(a, axis = 1))"
   ]
  },
  {
   "cell_type": "code",
   "execution_count": 6,
   "metadata": {},
   "outputs": [
    {
     "output_type": "stream",
     "name": "stdout",
     "text": [
      "3.5\n3.5\n[2.5 2.5]\n"
     ]
    }
   ],
   "source": [
    "b = np.array([1,2,3,4,5, 6])\n",
    "m = sum(b)/b.size\n",
    "print(m)\n",
    "m = np.mean(b)\n",
    "print(m)\n",
    "print(np.mean(a, axis = 1))"
   ]
  },
  {
   "cell_type": "code",
   "execution_count": 7,
   "metadata": {},
   "outputs": [
    {
     "output_type": "stream",
     "name": "stdout",
     "text": [
      "3.5\n2.5\n[2.5 2.5 2.5 2.5]\n[2.5 2.5]\n"
     ]
    }
   ],
   "source": [
    "print(np.median(b))\n",
    "print(np.median(a))\n",
    "print(np.median(a, axis = 0))\n",
    "print(np.median(a, axis = 1))"
   ]
  },
  {
   "cell_type": "code",
   "execution_count": 8,
   "metadata": {},
   "outputs": [
    {
     "output_type": "stream",
     "name": "stdout",
     "text": [
      "4.333333333333333\n"
     ]
    }
   ],
   "source": [
    "#average is weighted\n",
    "wts = [1,2,3,4,5,6]\n",
    "print(np.average(b, weights = wts))"
   ]
  },
  {
   "cell_type": "code",
   "execution_count": 9,
   "metadata": {},
   "outputs": [
    {
     "output_type": "stream",
     "name": "stdout",
     "text": [
      "1.854723699099141\n1.854723699099141\n"
     ]
    }
   ],
   "source": [
    "#standard deviation\n",
    "c = np.array([1,5,4,2,0])\n",
    "u = np.mean(c)\n",
    "stdDev = np.sqrt(np.mean(abs(c-u)**2))\n",
    "print(stdDev)\n",
    "stdDev = np.std(c)\n",
    "print(stdDev)"
   ]
  },
  {
   "cell_type": "code",
   "execution_count": 10,
   "metadata": {},
   "outputs": [
    {
     "output_type": "stream",
     "name": "stdout",
     "text": [
      "3.440000000000001\n3.4400000000000004\n"
     ]
    }
   ],
   "source": [
    "#variance\n",
    "print(stdDev**2)\n",
    "print(np.var(c))"
   ]
  },
  {
   "cell_type": "code",
   "execution_count": null,
   "metadata": {},
   "outputs": [],
   "source": []
  }
 ]
}