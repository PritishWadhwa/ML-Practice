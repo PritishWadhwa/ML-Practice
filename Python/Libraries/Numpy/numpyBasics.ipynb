{
 "metadata": {
  "language_info": {
   "codemirror_mode": {
    "name": "ipython",
    "version": 3
   },
   "file_extension": ".py",
   "mimetype": "text/x-python",
   "name": "python",
   "nbconvert_exporter": "python",
   "pygments_lexer": "ipython3",
   "version": "3.9.1-final"
  },
  "orig_nbformat": 2,
  "kernelspec": {
   "name": "python3",
   "display_name": "Python 3.9.1 64-bit",
   "metadata": {
    "interpreter": {
     "hash": "aee8b7b246df8f9039afb4144a1f6fd8d2ca17a180786b69acc140d282b71a49"
    }
   }
  }
 },
 "nbformat": 4,
 "nbformat_minor": 2,
 "cells": [
  {
   "cell_type": "code",
   "execution_count": 1,
   "metadata": {},
   "outputs": [],
   "source": [
    "import numpy as np"
   ]
  },
  {
   "cell_type": "code",
   "execution_count": 2,
   "metadata": {},
   "outputs": [
    {
     "output_type": "stream",
     "name": "stdout",
     "text": [
      "[1 2 3 4 5]\n<class 'numpy.ndarray'>\n(5,)\n"
     ]
    }
   ],
   "source": [
    "a = np.array([1,2,3,4,5])\n",
    "print(a)\n",
    "print(type(a))\n",
    "print(a.shape)"
   ]
  },
  {
   "cell_type": "code",
   "execution_count": 3,
   "metadata": {},
   "outputs": [
    {
     "output_type": "stream",
     "name": "stdout",
     "text": [
      "[[1]\n [2]\n [3]\n [4]\n [5]]\n(5, 1)\n"
     ]
    }
   ],
   "source": [
    "b = np.array([[1],[2],[3],[4],[5]])\n",
    "print(b)\n",
    "print(b.shape)"
   ]
  },
  {
   "cell_type": "code",
   "execution_count": 4,
   "metadata": {},
   "outputs": [
    {
     "output_type": "stream",
     "name": "stdout",
     "text": [
      "[[1 2 3]]\n(1, 3)\n"
     ]
    }
   ],
   "source": [
    "c = np.array([[1,2,3]])\n",
    "print(c)\n",
    "print(c.shape)"
   ]
  },
  {
   "cell_type": "code",
   "execution_count": 5,
   "metadata": {},
   "outputs": [
    {
     "output_type": "stream",
     "name": "stdout",
     "text": [
      "[[1 2 3]\n [4 5 6]]\n(2, 3)\n5\n"
     ]
    }
   ],
   "source": [
    "c = np.array([[1,2,3],[4,5,6]])\n",
    "print(c)\n",
    "print(c.shape)\n",
    "print(c[1][1])"
   ]
  },
  {
   "cell_type": "code",
   "execution_count": 6,
   "metadata": {},
   "outputs": [
    {
     "output_type": "stream",
     "name": "stdout",
     "text": [
      "[[0. 0. 0.]\n [0. 0. 0.]\n [0. 0. 0.]]\n0.0\n<class 'numpy.ndarray'>\n[[1. 1.]\n [1. 1.]\n [1. 1.]]\n1.0\n<class 'numpy.ndarray'>\n[[9 9 9]\n [9 9 9]]\n[['india' 'india' 'india']\n ['india' 'india' 'india']]\n[[1. 0. 0. 0.]\n [0. 1. 0. 0.]\n [0. 0. 1. 0.]\n [0. 0. 0. 1.]]\n[[0.10522376 0.98007484 0.72820036]\n [0.14118207 0.03420679 0.76351238]]\n"
     ]
    }
   ],
   "source": [
    "#array of zeroes\n",
    "a = np.zeros((3,3))\n",
    "print(a)\n",
    "print(a[0][1])\n",
    "print(type(a))\n",
    "\n",
    "b = np.ones((3,2))\n",
    "print(b)\n",
    "print(b[1][0])\n",
    "print(type(b))\n",
    "\n",
    "#array of some constant\n",
    "c = np.full((2,3), 9)\n",
    "print(c)\n",
    "\n",
    "d = np.full((2,3), \"india\")\n",
    "print(d)\n",
    "\n",
    "#identity matrix - size/square matrix\n",
    "e = np.eye(4)\n",
    "print(e)\n",
    "\n",
    "#random matrix\n",
    "rand = np.random.random((2,3))\n",
    "print(rand)"
   ]
  },
  {
   "cell_type": "code",
   "execution_count": 7,
   "metadata": {},
   "outputs": [
    {
     "output_type": "stream",
     "name": "stdout",
     "text": [
      "[0.98007484 0.03420679]\n"
     ]
    }
   ],
   "source": [
    "print(rand[:,1])"
   ]
  },
  {
   "cell_type": "code",
   "execution_count": 8,
   "metadata": {},
   "outputs": [
    {
     "output_type": "stream",
     "name": "stdout",
     "text": [
      "[[0.10522376 0.98007484 0.72820036]\n [0.14118207 1.         1.        ]]\n"
     ]
    }
   ],
   "source": [
    "rand[1, 1:] = 1 #slicing\n",
    "print(rand)"
   ]
  },
  {
   "cell_type": "code",
   "execution_count": 9,
   "metadata": {},
   "outputs": [
    {
     "output_type": "stream",
     "name": "stdout",
     "text": [
      "[[0 0 7]\n [3 3 7]\n [0 0 7]]\n"
     ]
    }
   ],
   "source": [
    "#set some rows and columns\n",
    "z = np.zeros((3,3), dtype = np.int64)\n",
    "z[1, : ] = 3\n",
    "z[:, 2] = 7\n",
    "print(z)"
   ]
  },
  {
   "cell_type": "code",
   "execution_count": 10,
   "metadata": {},
   "outputs": [
    {
     "output_type": "stream",
     "name": "stdout",
     "text": [
      "int64\n"
     ]
    }
   ],
   "source": [
    "#Datatypes\n",
    "print(z.dtype)"
   ]
  },
  {
   "cell_type": "code",
   "execution_count": 11,
   "metadata": {},
   "outputs": [
    {
     "output_type": "stream",
     "name": "stdout",
     "text": [
      "[[ 6  8]\n [10 12]]\n[[ 6  8]\n [10 12]]\n[[-4 -4]\n [-4 -4]]\n[[-4 -4]\n [-4 -4]]\n"
     ]
    }
   ],
   "source": [
    "#Mathematical Operations\n",
    "x = np.array([[1,2],[3,4]])\n",
    "y = np.array([[5,6],[7,8]])\n",
    "\n",
    "print(x+y)\n",
    "print(np.add(x,y))\n",
    "print(x-y)\n",
    "print(np.subtract(x,y))"
   ]
  },
  {
   "cell_type": "code",
   "execution_count": 12,
   "metadata": {},
   "outputs": [
    {
     "output_type": "stream",
     "name": "stdout",
     "text": [
      "[[ 5 12]\n [21 32]]\n[[ 5 12]\n [21 32]]\n[[0.2        0.33333333]\n [0.42857143 0.5       ]]\n[[0.2        0.33333333]\n [0.42857143 0.5       ]]\n[[1.         1.41421356]\n [1.73205081 2.        ]]\n[[2.23606798 2.44948974]\n [2.64575131 2.82842712]]\n"
     ]
    }
   ],
   "source": [
    "print(x*y)\n",
    "print(np.multiply(x,y))\n",
    "print(x/y)\n",
    "print(np.divide(x,y))\n",
    "print(np.sqrt(x))\n",
    "print(np.sqrt(y))"
   ]
  },
  {
   "cell_type": "code",
   "execution_count": 13,
   "metadata": {},
   "outputs": [
    {
     "output_type": "stream",
     "name": "stdout",
     "text": [
      "[[1 2]\n [3 4]]\n[[5 6]\n [7 8]]\n[[19 22]\n [43 50]]\n[[19 22]\n [43 50]]\n"
     ]
    }
   ],
   "source": [
    "#Matrix Multiplication / Dot Product\n",
    "print(x)\n",
    "print(y)\n",
    "print(x.dot(y))\n",
    "print(np.dot(x,y))"
   ]
  },
  {
   "cell_type": "code",
   "execution_count": 14,
   "metadata": {},
   "outputs": [
    {
     "output_type": "stream",
     "name": "stdout",
     "text": [
      "70\n"
     ]
    }
   ],
   "source": [
    "#Multiplication Of Vectors - Scalar\n",
    "a = np.array([1,2,3,4])\n",
    "b = np.array([5,6,7,8])\n",
    "print(a.dot(b))"
   ]
  },
  {
   "cell_type": "code",
   "execution_count": 15,
   "metadata": {},
   "outputs": [
    {
     "output_type": "stream",
     "name": "stdout",
     "text": [
      "[1 2 3 4]\n10\n"
     ]
    }
   ],
   "source": [
    "print(a)\n",
    "print(sum(a)) #Sum of all elements of the array"
   ]
  },
  {
   "cell_type": "code",
   "execution_count": 16,
   "metadata": {},
   "outputs": [
    {
     "output_type": "stream",
     "name": "stdout",
     "text": [
      "[[1 2]\n [3 4]]\n10\n[4 6]\n[3 7]\n"
     ]
    }
   ],
   "source": [
    "print(x)\n",
    "print(np.sum(x))\n",
    "print(np.sum(x, axis = 0))\n",
    "print(np.sum(x, axis = 1))"
   ]
  },
  {
   "cell_type": "code",
   "execution_count": 17,
   "metadata": {},
   "outputs": [
    {
     "output_type": "stream",
     "name": "stdout",
     "text": [
      "[1 2 3 4]\n[ 4  8 12 16]\n"
     ]
    }
   ],
   "source": [
    "#Stacking of arrays\n",
    "b = a*2\n",
    "b = b*2\n",
    "print(a)\n",
    "print(b)"
   ]
  },
  {
   "cell_type": "code",
   "execution_count": 18,
   "metadata": {},
   "outputs": [
    {
     "output_type": "stream",
     "name": "stdout",
     "text": [
      "[1 2 3 4]\n[ 4  8 12 16]\n"
     ]
    },
    {
     "output_type": "execute_result",
     "data": {
      "text/plain": [
       "array([[ 1,  2,  3,  4],\n",
       "       [ 4,  8, 12, 16]])"
      ]
     },
     "metadata": {},
     "execution_count": 18
    }
   ],
   "source": [
    "print(a)\n",
    "print(b)\n",
    "np.stack((a, b), axis = 0)\n"
   ]
  },
  {
   "cell_type": "code",
   "execution_count": 19,
   "metadata": {},
   "outputs": [],
   "source": [
    "d = np.stack((a,b), axis = 1)"
   ]
  },
  {
   "cell_type": "code",
   "execution_count": 20,
   "metadata": {},
   "outputs": [
    {
     "output_type": "stream",
     "name": "stdout",
     "text": [
      "[[ 1  4]\n [ 2  8]\n [ 3 12]\n [ 4 16]]\n"
     ]
    }
   ],
   "source": [
    "print(d)"
   ]
  },
  {
   "cell_type": "code",
   "execution_count": 21,
   "metadata": {},
   "outputs": [
    {
     "output_type": "stream",
     "name": "stdout",
     "text": [
      "(4, 2)\n[[ 1  4]\n [ 2  8]\n [ 3 12]\n [ 4 16]]\n[[ 1]\n [ 4]\n [ 2]\n [ 8]\n [ 3]\n [12]\n [ 4]\n [16]]\n[ 1  4  2  8  3 12  4 16]\n[[ 1  4  2  8]\n [ 3 12  4 16]]\n[[ 1]\n [ 4]\n [ 2]\n [ 8]\n [ 3]\n [12]\n [ 4]\n [16]]\n"
     ]
    }
   ],
   "source": [
    "#Reshape an array\n",
    "print(d.shape)\n",
    "e = d.reshape(8,1)\n",
    "f = d.reshape(8,)\n",
    "g = d.reshape(2, -1) #decide no of rows/columns on its own\n",
    "h = d.reshape(-1, 1)\n",
    "print(d)\n",
    "print(e)\n",
    "print(f)\n",
    "print(g)\n",
    "print(h)"
   ]
  },
  {
   "cell_type": "code",
   "execution_count": 22,
   "metadata": {},
   "outputs": [
    {
     "output_type": "stream",
     "name": "stdout",
     "text": [
      "[[ 1  4]\n [ 2  8]\n [ 3 12]\n [ 4 16]]\n[[ 1  2  3  4]\n [ 4  8 12 16]]\n"
     ]
    }
   ],
   "source": [
    "#Transpose\n",
    "print(d)\n",
    "e = d.T\n",
    "print(e)"
   ]
  },
  {
   "cell_type": "code",
   "execution_count": 23,
   "metadata": {},
   "outputs": [
    {
     "output_type": "execute_result",
     "data": {
      "text/plain": [
       "array([[ 4, 10],\n",
       "       [18, 28]])"
      ]
     },
     "metadata": {},
     "execution_count": 23
    }
   ],
   "source": [
    "#Element wise multiplication / Hadamard Multiplication\n",
    "a = np.array([[ 1, 2], [ 3, 4]])\n",
    "b = np.array([[ 4, 5], [ 6, 7]])\n",
    "a*b"
   ]
  },
  {
   "cell_type": "code",
   "execution_count": 24,
   "metadata": {},
   "outputs": [
    {
     "output_type": "stream",
     "name": "stdout",
     "text": [
      "5.0\n7.0\n4.0\n"
     ]
    }
   ],
   "source": [
    "#L^p norm\n",
    "#L^p norm = (|x1|^p + |x2|^p + ... + |xn|^p)^(1/p)\n",
    "#L^2: Euclidean Distance\n",
    "#L^1: summation of absolute values of the vector\n",
    "#L^1 norm = |x1| + |x2| + ... + |xn|\n",
    "#L^inf (max norm): absolute value of element with highest magnitude\n",
    "#L^inf norm = max(|x1|, |x2|, ... , |xn|)\n",
    "x = np.array([3,-4])\n",
    "lp2 = np.linalg.norm(x) #by default L^2 norm\n",
    "print(lp2)\n",
    "lp1 = np.linalg.norm(x, ord = 1)\n",
    "print(lp1)\n",
    "lpinf = np.linalg.norm(x, ord = np.inf)\n",
    "print(lpinf)"
   ]
  },
  {
   "cell_type": "code",
   "execution_count": 25,
   "metadata": {},
   "outputs": [
    {
     "output_type": "execute_result",
     "data": {
      "text/plain": [
       "2.0000000000000004"
      ]
     },
     "metadata": {},
     "execution_count": 25
    }
   ],
   "source": [
    "#Determinant\n",
    "a = np.array([[3,4], [1,2]])\n",
    "np.linalg.det(a)"
   ]
  },
  {
   "cell_type": "code",
   "execution_count": 26,
   "metadata": {},
   "outputs": [
    {
     "output_type": "stream",
     "name": "stdout",
     "text": [
      "[[3 4]\n [1 2]]\n[[ 1.  -2. ]\n [-0.5  1.5]]\n[[1.0000000e+00 8.8817842e-16]\n [0.0000000e+00 1.0000000e+00]]\n"
     ]
    }
   ],
   "source": [
    "#inverse\n",
    "ainv = np.linalg.inv(a)\n",
    "print(a)\n",
    "print(ainv)\n",
    "print(a.dot(ainv))"
   ]
  },
  {
   "cell_type": "code",
   "execution_count": 27,
   "metadata": {},
   "outputs": [
    {
     "output_type": "stream",
     "name": "stdout",
     "text": [
      "[[2 3]\n [2 3]]\n[[0.07692308 0.07692308]\n [0.11538462 0.11538462]]\n[[0.5 0.5]\n [0.5 0.5]]\n"
     ]
    }
   ],
   "source": [
    "#pseudo inverse: inverse for those for whom inverse doesn't exist(det = 0)\n",
    "#if matrix invertible, then pseudo inverse = actual inverse\n",
    "a = np.array([[2,3], [2,3]])\n",
    "ainv = np.linalg.pinv(a)\n",
    "print(a)\n",
    "print(ainv)\n",
    "print(np.dot(a, ainv))"
   ]
  },
  {
   "cell_type": "code",
   "execution_count": 28,
   "metadata": {},
   "outputs": [
    {
     "output_type": "execute_result",
     "data": {
      "text/plain": [
       "array([0.52432432, 0.58378378])"
      ]
     },
     "metadata": {},
     "execution_count": 28
    }
   ],
   "source": [
    "#solve system of equations\n",
    "#eg  10x + 15y = 14\n",
    "#and 14x - 16y = -2\n",
    "\n",
    "A = np.array([[10, 15], [14, -16]])\n",
    "B = np.array([14, -2])\n",
    "np.linalg.solve(A, B)"
   ]
  },
  {
   "cell_type": "code",
   "execution_count": null,
   "metadata": {},
   "outputs": [],
   "source": []
  }
 ]
}